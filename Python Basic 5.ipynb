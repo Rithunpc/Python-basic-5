{
 "cells": [
  {
   "cell_type": "markdown",
   "id": "0c50c095",
   "metadata": {},
   "source": [
    "List\n",
    "\n",
    "Tuple, set and dicitonary are the other collection data type is python.\n",
    "\n",
    "A list is order and changeable.\n",
    "\n",
    "To declare a list we use the square brackets."
   ]
  },
  {
   "cell_type": "code",
   "execution_count": 1,
   "id": "3c9175c5",
   "metadata": {},
   "outputs": [
    {
     "data": {
      "text/plain": [
       "[15, 25, 10, 30]"
      ]
     },
     "execution_count": 1,
     "metadata": {},
     "output_type": "execute_result"
    }
   ],
   "source": [
    "list = [20,15,25,10,30,5,'pinki','browie']\n",
    "#will get teh value from index 1 until index 5.\n",
    "list[1:5]"
   ]
  },
  {
   "cell_type": "code",
   "execution_count": 2,
   "id": "33fbf702",
   "metadata": {},
   "outputs": [
    {
     "data": {
      "text/plain": [
       "[25, 10, 30, 5]"
      ]
     },
     "execution_count": 2,
     "metadata": {},
     "output_type": "execute_result"
    }
   ],
   "source": [
    "list[2:6]"
   ]
  },
  {
   "cell_type": "code",
   "execution_count": 3,
   "id": "eb237963",
   "metadata": {},
   "outputs": [
    {
     "data": {
      "text/plain": [
       "[30, 5, 'pinki', 'browie']"
      ]
     },
     "execution_count": 3,
     "metadata": {},
     "output_type": "execute_result"
    }
   ],
   "source": [
    "list[4:8]"
   ]
  },
  {
   "cell_type": "code",
   "execution_count": 4,
   "id": "e7683932",
   "metadata": {},
   "outputs": [
    {
     "data": {
      "text/plain": [
       "[20, 15, 25, 10, 30, 5, 'jimmy', 'browie']"
      ]
     },
     "execution_count": 4,
     "metadata": {},
     "output_type": "execute_result"
    }
   ],
   "source": [
    "# will replace the value at the index 6.\n",
    "list[6]='jimmy'\n",
    "list"
   ]
  },
  {
   "cell_type": "code",
   "execution_count": 5,
   "id": "ef480a15",
   "metadata": {},
   "outputs": [
    {
     "data": {
      "text/plain": [
       "[20, 15, 25, 10, 30, 5, 'jimmy', 'browie', 'blacky']"
      ]
     },
     "execution_count": 5,
     "metadata": {},
     "output_type": "execute_result"
    }
   ],
   "source": [
    "#will add the value at end of the list.\n",
    "list.append('blacky')\n",
    "list"
   ]
  },
  {
   "cell_type": "code",
   "execution_count": 6,
   "id": "dd663fd2",
   "metadata": {},
   "outputs": [
    {
     "data": {
      "text/plain": [
       "[20, 15, 25, 10, 'pekkly', 30, 5, 'jimmy', 'browie', 'blacky']"
      ]
     },
     "execution_count": 6,
     "metadata": {},
     "output_type": "execute_result"
    }
   ],
   "source": [
    "#will add the value at the index 4.\n",
    "list.insert(4,'pekkly')\n",
    "list"
   ]
  },
  {
   "cell_type": "code",
   "execution_count": 7,
   "id": "58c73e2a",
   "metadata": {},
   "outputs": [
    {
     "data": {
      "text/plain": [
       "[20, 15, 25, 10, 'pekkly', 30, 'penki', 5, 'jimmy', 'browie', 'blacky']"
      ]
     },
     "execution_count": 7,
     "metadata": {},
     "output_type": "execute_result"
    }
   ],
   "source": [
    "list.insert(6,'penki')\n",
    "list"
   ]
  },
  {
   "cell_type": "markdown",
   "id": "c2e379d0",
   "metadata": {},
   "source": [
    "Tuples\n",
    "\n",
    "collection which is unchangeable or immutable.\n",
    "\n",
    "To declare a tuple we use the round bracket"
   ]
  },
  {
   "cell_type": "code",
   "execution_count": null,
   "id": "d4711d92",
   "metadata": {},
   "outputs": [],
   "source": [
    "\n"
   ]
  },
  {
   "cell_type": "code",
   "execution_count": 8,
   "id": "74292060",
   "metadata": {
    "scrolled": true
   },
   "outputs": [
    {
     "data": {
      "text/plain": [
       "2"
      ]
     },
     "execution_count": 8,
     "metadata": {},
     "output_type": "execute_result"
    }
   ],
   "source": [
    "tuple=(10,20,10,30,20,40,30,50,30)\n",
    "#to count the number of elements\n",
    "tuple.count(10)\n",
    "\n"
   ]
  },
  {
   "cell_type": "code",
   "execution_count": 9,
   "id": "36a1bae3",
   "metadata": {},
   "outputs": [
    {
     "data": {
      "text/plain": [
       "3"
      ]
     },
     "execution_count": 9,
     "metadata": {},
     "output_type": "execute_result"
    }
   ],
   "source": [
    "tuple.count(30)"
   ]
  },
  {
   "cell_type": "code",
   "execution_count": 10,
   "id": "0a2b8e1e",
   "metadata": {},
   "outputs": [
    {
     "data": {
      "text/plain": [
       "7"
      ]
     },
     "execution_count": 10,
     "metadata": {},
     "output_type": "execute_result"
    }
   ],
   "source": [
    "#to find the index\n",
    "tuple.index(50)"
   ]
  },
  {
   "cell_type": "code",
   "execution_count": null,
   "id": "9979db3a",
   "metadata": {},
   "outputs": [],
   "source": []
  }
 ],
 "metadata": {
  "kernelspec": {
   "display_name": "Python 3 (ipykernel)",
   "language": "python",
   "name": "python3"
  },
  "language_info": {
   "codemirror_mode": {
    "name": "ipython",
    "version": 3
   },
   "file_extension": ".py",
   "mimetype": "text/x-python",
   "name": "python",
   "nbconvert_exporter": "python",
   "pygments_lexer": "ipython3",
   "version": "3.10.9"
  }
 },
 "nbformat": 4,
 "nbformat_minor": 5
}
